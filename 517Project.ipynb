{
  "nbformat": 4,
  "nbformat_minor": 0,
  "metadata": {
    "colab": {
      "name": "517Project",
      "provenance": [],
      "collapsed_sections": [],
      "include_colab_link": true
    },
    "kernelspec": {
      "name": "python3",
      "display_name": "Python 3"
    },
    "language_info": {
      "name": "python"
    }
  },
  "cells": [
    {
      "cell_type": "markdown",
      "metadata": {
        "id": "view-in-github",
        "colab_type": "text"
      },
      "source": [
        "<a href=\"https://colab.research.google.com/github/mkelb99/517-Project/blob/main/517Project.ipynb\" target=\"_parent\"><img src=\"https://colab.research.google.com/assets/colab-badge.svg\" alt=\"Open In Colab\"/></a>"
      ]
    },
    {
      "cell_type": "markdown",
      "source": [
        "Part 1) "
      ],
      "metadata": {
        "id": "S6Q_qcUv4ujd"
      }
    },
    {
      "cell_type": "code",
      "source": [
        "#mount the drive\n",
        "from google.colab import drive\n",
        "drive.mount('/content/drive')"
      ],
      "metadata": {
        "colab": {
          "base_uri": "https://localhost:8080/"
        },
        "id": "SvECaRy13kzy",
        "outputId": "886a535d-2361-4ae5-b564-ddc74d7ae2a6"
      },
      "execution_count": null,
      "outputs": [
        {
          "output_type": "stream",
          "name": "stdout",
          "text": [
            "Mounted at /content/drive\n"
          ]
        }
      ]
    },
    {
      "cell_type": "code",
      "metadata": {
        "id": "2jK4QXauMvv5"
      },
      "source": [
        "#Solutions code by Matt Mender, W-2021 used in this project\n",
        "\n",
        "#begin with library imports\n",
        "import torch\n",
        "import torch.nn as nn\n",
        "import matplotlib.pyplot as plt\n",
        "import scipy.io as sio #allows for importing of .mat files \n",
        "import numpy\n",
        "#add optimizer library to given imports\n",
        "import torch.optim as optm\n",
        "\n",
        "from torch.utils.data import DataLoader, sampler, TensorDataset \n",
        "import torch.nn.functional as F\n",
        "\n",
        "from torch.autograd import Variable"
      ],
      "execution_count": null,
      "outputs": []
    },
    {
      "cell_type": "code",
      "metadata": {
        "id": "2i0p7_jLNPJ-"
      },
      "source": [
        "# Import your data here\n",
        "rootDir = '/content/drive/Shareddrives/517_Project/'\n",
        "fn = 'contdata95.mat'\n",
        "\n",
        "\n",
        "dtype = torch.float\n",
        "conv_size = 3 # size of time history\n",
        "\n",
        "# load the mat file\n",
        "mat = sio.loadmat(rootDir+fn)\n",
        "\n",
        "# Get each variable from the mat file\n",
        "X = torch.tensor(mat['Y']) # This is switching Y in the mat file to X in our code - we programmed this with X as the neural data but contdata95.mat has Y as neural data.\n",
        "y = torch.tensor(mat['X'])[:,0:4]\n",
        "\n",
        "nsamp = X.shape[0]\n",
        "ntrain = int(numpy.round(nsamp*0.8)) # using 80% of data for training\n",
        "\n",
        "X_train = X[0:ntrain,:].to(dtype)\n",
        "X_test = X[ntrain+1:,:].to(dtype)\n",
        "y_train = y[0:ntrain,:].to(dtype)\n",
        "y_test = y[ntrain+1:,:].to(dtype)\n",
        "\n",
        "\n",
        "# Initialize tensor with conv_size*nfeatures features\n",
        "X_ctrain = torch.zeros((int(X_train.shape[0]), int(X_train.shape[1]*conv_size)), dtype=dtype)\n",
        "X_ctest = torch.zeros((int(X_test.shape[0]), int(X_test.shape[1]*conv_size)), dtype=dtype)\n",
        "X_ctrain[:,0:X_train.shape[1]] = X_train\n",
        "X_ctest[:,0:X_test.shape[1]] = X_test\n",
        "\n",
        "# Add the previous 3 time bins features as a feature in the current time bin\n",
        "for k1 in range(conv_size-1):\n",
        "    k = k1+1\n",
        "    X_ctrain[k:, int(X_train.shape[1]*k):int(X_train.shape[1]*(k+1))] = X_train[0:-k, :]\n",
        "    X_ctest[k:, int(X_test.shape[1]*k):int(X_test.shape[1]*(k+1))] = X_test[0:-k, :]\n",
        "\n",
        "# Create Dataset and dataloader\n",
        "test_ds= TensorDataset(X_ctest, y_test)\n",
        "train_ds = TensorDataset(X_ctrain, y_train)\n",
        "\n",
        "#If a batch in BatchNorm only has 1 sample it wont work, so dropping the last in case that happens\n",
        "train_dl = DataLoader(train_ds, batch_size=64, shuffle=True, drop_last=True)\n",
        "test_dl = DataLoader(test_ds, batch_size=len(test_ds), shuffle=False, drop_last=True)"
      ],
      "execution_count": null,
      "outputs": []
    },
    {
      "cell_type": "markdown",
      "source": [
        "Part 2) Create the LSTM Architecture"
      ],
      "metadata": {
        "id": "YhuuJ-y7IgDG"
      }
    },
    {
      "cell_type": "code",
      "source": [
        "class LSTM(nn.Module):\n",
        "\n",
        "  def __init__(self, num_classes, input_size, hidden_size, num_layers):\n",
        "    super(LSTM, self).__init__()\n",
        "\n",
        "    self.num_classes = num_classes\n",
        "    self.num_layers = num_layers\n",
        "    self.input_size = input_size\n",
        "    self.hidden_size = hidden_size\n",
        "\n",
        "    self.lstm = nn.LSTM(input_size=input_size, hidden_size=hidden_size,\n",
        "                        num_layers=num_layers, batch_first=True)\n",
        "    \n",
        "    self.fc = nn.Linear(hidden_size, num_classes)\n",
        "  \n",
        "  def forward(self, x):\n",
        "    #h_0 = Variable(torch.zeros(self.num_layers, x.size(0), self.hidden_size))\n",
        "    \n",
        "    #c_0 = Variable(torch.zeros(self.num_layers, x.size(0), self.hidden_size))\n",
        "    h_0 = torch.zeros(num_layers, 64, hidden_size)\n",
        "    c_0 = torch.zeros(num_layers, 64, hidden_size)\n",
        "\n",
        "    # Propagate input through LSTM\n",
        "    #ula, (h_out, _) = self.lstm(x, (h_0, c_0))\n",
        "    \n",
        "    #h_out = h_out.view(-1, self.hidden_size)\n",
        "    \n",
        "    #out = self.fc(h_out)\n",
        "\n",
        "    output, (h_0, c_0) = self.lstm(x, (h_0, c_0))\n",
        "    #output = self.fc(h_0)\n",
        "    \n",
        "    return output"
      ],
      "metadata": {
        "id": "stjJHXDuIOtk"
      },
      "execution_count": null,
      "outputs": []
    },
    {
      "cell_type": "code",
      "source": [
        "#try creating architecture a different way here"
      ],
      "metadata": {
        "id": "MNF8g748z1DK"
      },
      "execution_count": null,
      "outputs": []
    },
    {
      "cell_type": "markdown",
      "source": [
        "Part 3) Train the LSTM"
      ],
      "metadata": {
        "id": "Ad7TA4KcIpMG"
      }
    },
    {
      "cell_type": "code",
      "source": [
        "n_epochs = 2000\n",
        "learning_rate = 1e-5\n",
        "weight_decay = 1e-2\n",
        "\n",
        "input_size = 285\n",
        "hidden_size = 256\n",
        "num_layers = 1\n",
        "\n",
        "num_classes = 4 \n",
        "\n",
        "lstm = LSTM(num_classes, input_size, hidden_size, num_layers)\n",
        "loss_fn=nn.MSELoss()\n",
        "opt=optm.Adam(lstm.parameters(), lr=learning_rate, weight_decay=weight_decay)"
      ],
      "metadata": {
        "id": "ZtEktWCOIq4u"
      },
      "execution_count": null,
      "outputs": []
    },
    {
      "cell_type": "code",
      "source": [
        "def myfit(epochs, nntofit, loss_fn, opt, train_dl, val_dl, print_every=1):\n",
        "    train_loss = torch.zeros(epochs * len(train_dl) , dtype=torch.float) # train error for every iteration\n",
        "    validation_loss = torch.zeros(epochs , dtype=torch.float) # validation is only once per epoch\n",
        "    i = -1 # iteration number\n",
        "    for epoch in range(n_epochs):\n",
        "        for x,y in train_dl: # batch of training points\n",
        "          i += 1\n",
        "          # Set model in train mode (for batch normalization and dropout)\n",
        "          nntofit.train()\n",
        "          #predicted outputs from model\n",
        "          yh = lstm(x)\n",
        "          # obtain the loss function\n",
        "          loss = loss_fn(yh,y)\n",
        "          loss.backward()\n",
        "          train_loss[i] = loss.item()\n",
        "          opt.step()\n",
        "          opt.zero_grad()\n",
        "          \n",
        "        for xval,yval in val_dl:\n",
        "          with torch.no_grad(): # disable gradient calculation\n",
        "            nntofit.eval() # set model to evaluation mode (matters for batch normalization and dropout)\n",
        "            loss2 = loss_fn(nntofit(xval),yval)\n",
        "            validation_loss[epoch] = loss2.item()\n",
        "    return train_loss, validation_loss"
      ],
      "metadata": {
        "id": "cpAUslYQlFh9"
      },
      "execution_count": null,
      "outputs": []
    },
    {
      "cell_type": "markdown",
      "source": [
        "Part 4) Evaluate the Network"
      ],
      "metadata": {
        "id": "eztBRHHAKbNr"
      }
    },
    {
      "cell_type": "code",
      "source": [
        "train_loss, validation_loss = myfit(n_epochs, lstm, loss_fn, opt, train_dl, test_dl)\n",
        "# Plot training and validation losses\n",
        "plot_epochs = n_epochs\n",
        "\n",
        "val_iters = numpy.arange(0,n_epochs)*len(train_dl)\n",
        "train_iters = numpy.arange(0,len(train_dl)*n_epochs)\n",
        "n_iter = len(train_dl) * n_epochs # number of batches per epoch * number of epochs \n",
        "\n",
        "plt.plot(train_iters[0:plot_epochs*len(train_dl)], train_loss[0:plot_epochs*len(train_dl)], 'b')\n",
        "plt.plot(val_iters[0:plot_epochs], validation_loss[0:plot_epochs], 'r')\n",
        "plt.xlabel('Number of iterations')\n",
        "plt.ylabel('MSE')\n",
        "plt.show()"
      ],
      "metadata": {
        "id": "q9hIHippKa2W",
        "colab": {
          "base_uri": "https://localhost:8080/",
          "height": 389
        },
        "outputId": "e6fb7bf6-4b48-4f7d-e08f-6924c834c3f4"
      },
      "execution_count": null,
      "outputs": [
        {
          "output_type": "error",
          "ename": "RuntimeError",
          "evalue": "ignored",
          "traceback": [
            "\u001b[0;31m---------------------------------------------------------------------------\u001b[0m",
            "\u001b[0;31mRuntimeError\u001b[0m                              Traceback (most recent call last)",
            "\u001b[0;32m<ipython-input-8-c58129ab4724>\u001b[0m in \u001b[0;36m<module>\u001b[0;34m()\u001b[0m\n\u001b[0;32m----> 1\u001b[0;31m \u001b[0mtrain_loss\u001b[0m\u001b[0;34m,\u001b[0m \u001b[0mvalidation_loss\u001b[0m \u001b[0;34m=\u001b[0m \u001b[0mmyfit\u001b[0m\u001b[0;34m(\u001b[0m\u001b[0mn_epochs\u001b[0m\u001b[0;34m,\u001b[0m \u001b[0mlstm\u001b[0m\u001b[0;34m,\u001b[0m \u001b[0mloss_fn\u001b[0m\u001b[0;34m,\u001b[0m \u001b[0mopt\u001b[0m\u001b[0;34m,\u001b[0m \u001b[0mtrain_dl\u001b[0m\u001b[0;34m,\u001b[0m \u001b[0mtest_dl\u001b[0m\u001b[0;34m)\u001b[0m\u001b[0;34m\u001b[0m\u001b[0;34m\u001b[0m\u001b[0m\n\u001b[0m\u001b[1;32m      2\u001b[0m \u001b[0;31m# Plot training and validation losses\u001b[0m\u001b[0;34m\u001b[0m\u001b[0;34m\u001b[0m\u001b[0;34m\u001b[0m\u001b[0m\n\u001b[1;32m      3\u001b[0m \u001b[0mplot_epochs\u001b[0m \u001b[0;34m=\u001b[0m \u001b[0mn_epochs\u001b[0m\u001b[0;34m\u001b[0m\u001b[0;34m\u001b[0m\u001b[0m\n\u001b[1;32m      4\u001b[0m \u001b[0;34m\u001b[0m\u001b[0m\n\u001b[1;32m      5\u001b[0m \u001b[0mval_iters\u001b[0m \u001b[0;34m=\u001b[0m \u001b[0mnumpy\u001b[0m\u001b[0;34m.\u001b[0m\u001b[0marange\u001b[0m\u001b[0;34m(\u001b[0m\u001b[0;36m0\u001b[0m\u001b[0;34m,\u001b[0m\u001b[0mn_epochs\u001b[0m\u001b[0;34m)\u001b[0m\u001b[0;34m*\u001b[0m\u001b[0mlen\u001b[0m\u001b[0;34m(\u001b[0m\u001b[0mtrain_dl\u001b[0m\u001b[0;34m)\u001b[0m\u001b[0;34m\u001b[0m\u001b[0;34m\u001b[0m\u001b[0m\n",
            "\u001b[0;32m<ipython-input-7-46b2c548e31f>\u001b[0m in \u001b[0;36mmyfit\u001b[0;34m(epochs, nntofit, loss_fn, opt, train_dl, val_dl, print_every)\u001b[0m\n\u001b[1;32m      9\u001b[0m           \u001b[0mnntofit\u001b[0m\u001b[0;34m.\u001b[0m\u001b[0mtrain\u001b[0m\u001b[0;34m(\u001b[0m\u001b[0;34m)\u001b[0m\u001b[0;34m\u001b[0m\u001b[0;34m\u001b[0m\u001b[0m\n\u001b[1;32m     10\u001b[0m           \u001b[0;31m#predicted outputs from model\u001b[0m\u001b[0;34m\u001b[0m\u001b[0;34m\u001b[0m\u001b[0;34m\u001b[0m\u001b[0m\n\u001b[0;32m---> 11\u001b[0;31m           \u001b[0myh\u001b[0m \u001b[0;34m=\u001b[0m \u001b[0mlstm\u001b[0m\u001b[0;34m(\u001b[0m\u001b[0mx\u001b[0m\u001b[0;34m)\u001b[0m\u001b[0;34m\u001b[0m\u001b[0;34m\u001b[0m\u001b[0m\n\u001b[0m\u001b[1;32m     12\u001b[0m           \u001b[0;31m# obtain the loss function\u001b[0m\u001b[0;34m\u001b[0m\u001b[0;34m\u001b[0m\u001b[0;34m\u001b[0m\u001b[0m\n\u001b[1;32m     13\u001b[0m           \u001b[0mloss\u001b[0m \u001b[0;34m=\u001b[0m \u001b[0mloss_fn\u001b[0m\u001b[0;34m(\u001b[0m\u001b[0myh\u001b[0m\u001b[0;34m,\u001b[0m\u001b[0my\u001b[0m\u001b[0;34m)\u001b[0m\u001b[0;34m\u001b[0m\u001b[0;34m\u001b[0m\u001b[0m\n",
            "\u001b[0;32m/usr/local/lib/python3.7/dist-packages/torch/nn/modules/module.py\u001b[0m in \u001b[0;36m_call_impl\u001b[0;34m(self, *input, **kwargs)\u001b[0m\n\u001b[1;32m   1100\u001b[0m         if not (self._backward_hooks or self._forward_hooks or self._forward_pre_hooks or _global_backward_hooks\n\u001b[1;32m   1101\u001b[0m                 or _global_forward_hooks or _global_forward_pre_hooks):\n\u001b[0;32m-> 1102\u001b[0;31m             \u001b[0;32mreturn\u001b[0m \u001b[0mforward_call\u001b[0m\u001b[0;34m(\u001b[0m\u001b[0;34m*\u001b[0m\u001b[0minput\u001b[0m\u001b[0;34m,\u001b[0m \u001b[0;34m**\u001b[0m\u001b[0mkwargs\u001b[0m\u001b[0;34m)\u001b[0m\u001b[0;34m\u001b[0m\u001b[0;34m\u001b[0m\u001b[0m\n\u001b[0m\u001b[1;32m   1103\u001b[0m         \u001b[0;31m# Do not call functions when jit is used\u001b[0m\u001b[0;34m\u001b[0m\u001b[0;34m\u001b[0m\u001b[0;34m\u001b[0m\u001b[0m\n\u001b[1;32m   1104\u001b[0m         \u001b[0mfull_backward_hooks\u001b[0m\u001b[0;34m,\u001b[0m \u001b[0mnon_full_backward_hooks\u001b[0m \u001b[0;34m=\u001b[0m \u001b[0;34m[\u001b[0m\u001b[0;34m]\u001b[0m\u001b[0;34m,\u001b[0m \u001b[0;34m[\u001b[0m\u001b[0;34m]\u001b[0m\u001b[0;34m\u001b[0m\u001b[0;34m\u001b[0m\u001b[0m\n",
            "\u001b[0;32m<ipython-input-4-57d2e2800646>\u001b[0m in \u001b[0;36mforward\u001b[0;34m(self, x)\u001b[0m\n\u001b[1;32m     28\u001b[0m     \u001b[0;31m#out = self.fc(h_out)\u001b[0m\u001b[0;34m\u001b[0m\u001b[0;34m\u001b[0m\u001b[0;34m\u001b[0m\u001b[0m\n\u001b[1;32m     29\u001b[0m \u001b[0;34m\u001b[0m\u001b[0m\n\u001b[0;32m---> 30\u001b[0;31m     \u001b[0moutput\u001b[0m\u001b[0;34m,\u001b[0m \u001b[0;34m(\u001b[0m\u001b[0mh_0\u001b[0m\u001b[0;34m,\u001b[0m \u001b[0mc_0\u001b[0m\u001b[0;34m)\u001b[0m \u001b[0;34m=\u001b[0m \u001b[0mself\u001b[0m\u001b[0;34m.\u001b[0m\u001b[0mlstm\u001b[0m\u001b[0;34m(\u001b[0m\u001b[0mx\u001b[0m\u001b[0;34m,\u001b[0m \u001b[0;34m(\u001b[0m\u001b[0mh_0\u001b[0m\u001b[0;34m,\u001b[0m \u001b[0mc_0\u001b[0m\u001b[0;34m)\u001b[0m\u001b[0;34m)\u001b[0m\u001b[0;34m\u001b[0m\u001b[0;34m\u001b[0m\u001b[0m\n\u001b[0m\u001b[1;32m     31\u001b[0m     \u001b[0;31m#output = self.fc(h_0)\u001b[0m\u001b[0;34m\u001b[0m\u001b[0;34m\u001b[0m\u001b[0;34m\u001b[0m\u001b[0m\n\u001b[1;32m     32\u001b[0m \u001b[0;34m\u001b[0m\u001b[0m\n",
            "\u001b[0;32m/usr/local/lib/python3.7/dist-packages/torch/nn/modules/module.py\u001b[0m in \u001b[0;36m_call_impl\u001b[0;34m(self, *input, **kwargs)\u001b[0m\n\u001b[1;32m   1100\u001b[0m         if not (self._backward_hooks or self._forward_hooks or self._forward_pre_hooks or _global_backward_hooks\n\u001b[1;32m   1101\u001b[0m                 or _global_forward_hooks or _global_forward_pre_hooks):\n\u001b[0;32m-> 1102\u001b[0;31m             \u001b[0;32mreturn\u001b[0m \u001b[0mforward_call\u001b[0m\u001b[0;34m(\u001b[0m\u001b[0;34m*\u001b[0m\u001b[0minput\u001b[0m\u001b[0;34m,\u001b[0m \u001b[0;34m**\u001b[0m\u001b[0mkwargs\u001b[0m\u001b[0;34m)\u001b[0m\u001b[0;34m\u001b[0m\u001b[0;34m\u001b[0m\u001b[0m\n\u001b[0m\u001b[1;32m   1103\u001b[0m         \u001b[0;31m# Do not call functions when jit is used\u001b[0m\u001b[0;34m\u001b[0m\u001b[0;34m\u001b[0m\u001b[0;34m\u001b[0m\u001b[0m\n\u001b[1;32m   1104\u001b[0m         \u001b[0mfull_backward_hooks\u001b[0m\u001b[0;34m,\u001b[0m \u001b[0mnon_full_backward_hooks\u001b[0m \u001b[0;34m=\u001b[0m \u001b[0;34m[\u001b[0m\u001b[0;34m]\u001b[0m\u001b[0;34m,\u001b[0m \u001b[0;34m[\u001b[0m\u001b[0;34m]\u001b[0m\u001b[0;34m\u001b[0m\u001b[0;34m\u001b[0m\u001b[0m\n",
            "\u001b[0;32m/usr/local/lib/python3.7/dist-packages/torch/nn/modules/rnn.py\u001b[0m in \u001b[0;36mforward\u001b[0;34m(self, input, hx)\u001b[0m\n\u001b[1;32m    687\u001b[0m             \u001b[0mhx\u001b[0m \u001b[0;34m=\u001b[0m \u001b[0mself\u001b[0m\u001b[0;34m.\u001b[0m\u001b[0mpermute_hidden\u001b[0m\u001b[0;34m(\u001b[0m\u001b[0mhx\u001b[0m\u001b[0;34m,\u001b[0m \u001b[0msorted_indices\u001b[0m\u001b[0;34m)\u001b[0m\u001b[0;34m\u001b[0m\u001b[0;34m\u001b[0m\u001b[0m\n\u001b[1;32m    688\u001b[0m \u001b[0;34m\u001b[0m\u001b[0m\n\u001b[0;32m--> 689\u001b[0;31m         \u001b[0mself\u001b[0m\u001b[0;34m.\u001b[0m\u001b[0mcheck_forward_args\u001b[0m\u001b[0;34m(\u001b[0m\u001b[0minput\u001b[0m\u001b[0;34m,\u001b[0m \u001b[0mhx\u001b[0m\u001b[0;34m,\u001b[0m \u001b[0mbatch_sizes\u001b[0m\u001b[0;34m)\u001b[0m\u001b[0;34m\u001b[0m\u001b[0;34m\u001b[0m\u001b[0m\n\u001b[0m\u001b[1;32m    690\u001b[0m         \u001b[0;32mif\u001b[0m \u001b[0mbatch_sizes\u001b[0m \u001b[0;32mis\u001b[0m \u001b[0;32mNone\u001b[0m\u001b[0;34m:\u001b[0m\u001b[0;34m\u001b[0m\u001b[0;34m\u001b[0m\u001b[0m\n\u001b[1;32m    691\u001b[0m             result = _VF.lstm(input, hx, self._flat_weights, self.bias, self.num_layers,\n",
            "\u001b[0;32m/usr/local/lib/python3.7/dist-packages/torch/nn/modules/rnn.py\u001b[0m in \u001b[0;36mcheck_forward_args\u001b[0;34m(self, input, hidden, batch_sizes)\u001b[0m\n\u001b[1;32m    630\u001b[0m                            \u001b[0mbatch_sizes\u001b[0m\u001b[0;34m:\u001b[0m \u001b[0mOptional\u001b[0m\u001b[0;34m[\u001b[0m\u001b[0mTensor\u001b[0m\u001b[0;34m]\u001b[0m\u001b[0;34m,\u001b[0m\u001b[0;34m\u001b[0m\u001b[0;34m\u001b[0m\u001b[0m\n\u001b[1;32m    631\u001b[0m                            ):\n\u001b[0;32m--> 632\u001b[0;31m         \u001b[0mself\u001b[0m\u001b[0;34m.\u001b[0m\u001b[0mcheck_input\u001b[0m\u001b[0;34m(\u001b[0m\u001b[0minput\u001b[0m\u001b[0;34m,\u001b[0m \u001b[0mbatch_sizes\u001b[0m\u001b[0;34m)\u001b[0m\u001b[0;34m\u001b[0m\u001b[0;34m\u001b[0m\u001b[0m\n\u001b[0m\u001b[1;32m    633\u001b[0m         self.check_hidden_size(hidden[0], self.get_expected_hidden_size(input, batch_sizes),\n\u001b[1;32m    634\u001b[0m                                'Expected hidden[0] size {}, got {}')\n",
            "\u001b[0;32m/usr/local/lib/python3.7/dist-packages/torch/nn/modules/rnn.py\u001b[0m in \u001b[0;36mcheck_input\u001b[0;34m(self, input, batch_sizes)\u001b[0m\n\u001b[1;32m    201\u001b[0m             raise RuntimeError(\n\u001b[1;32m    202\u001b[0m                 'input must have {} dimensions, got {}'.format(\n\u001b[0;32m--> 203\u001b[0;31m                     expected_input_dim, input.dim()))\n\u001b[0m\u001b[1;32m    204\u001b[0m         \u001b[0;32mif\u001b[0m \u001b[0mself\u001b[0m\u001b[0;34m.\u001b[0m\u001b[0minput_size\u001b[0m \u001b[0;34m!=\u001b[0m \u001b[0minput\u001b[0m\u001b[0;34m.\u001b[0m\u001b[0msize\u001b[0m\u001b[0;34m(\u001b[0m\u001b[0;34m-\u001b[0m\u001b[0;36m1\u001b[0m\u001b[0;34m)\u001b[0m\u001b[0;34m:\u001b[0m\u001b[0;34m\u001b[0m\u001b[0;34m\u001b[0m\u001b[0m\n\u001b[1;32m    205\u001b[0m             raise RuntimeError(\n",
            "\u001b[0;31mRuntimeError\u001b[0m: input must have 3 dimensions, got 2"
          ]
        }
      ]
    },
    {
      "cell_type": "code",
      "source": [
        "# Plot some example decodes\n",
        "for x,y in test_dl:\n",
        "    with torch.no_grad():\n",
        "        yh = neuralnet(x)\n",
        "        #looking at select channel\n",
        "    th = numpy.arange(0, x.shape[0])*50e-3\n",
        "    \n",
        "    plt.subplot(2,1,1)\n",
        "    plt.plot(th[1000:1500], y[1000:1500,0],'b')\n",
        "    plt.plot(th[1000:1500],yh[1000:1500,0].detach().numpy(), 'r')\n",
        "    #plt.xlabel('sec')\n",
        "    plt.ylabel('X Position')\n",
        "    \n",
        "    plt.subplot(2,1,2)\n",
        "    plt.plot(th[1000:1500], y[1000:1500,1], 'b')\n",
        "    plt.plot(th[1000:1500],yh[1000:1500,1].detach().numpy(), 'r')\n",
        "    plt.xlabel('Time (seconds)')\n",
        "    plt.ylabel('Y Position')\n",
        "    \n",
        "    plt.show()\n",
        "    \n",
        "    r = numpy.corrcoef(yh.detach().numpy().T,y.T)\n",
        "    r = numpy.diag(r[4:,0:4])\n",
        "    print('Correlation for X position is %g' % r[0])\n",
        "    print('Correlation for Y position is %g' % r[1])\n",
        "    print('Correlation for X velocity is %g' % r[2])\n",
        "    print('Correlation for Y velocity is %g' % r[3])\n",
        "    print('Average Correlation: %g' % numpy.mean(r))\n"
      ],
      "metadata": {
        "id": "1zzcE_NkK7UM"
      },
      "execution_count": null,
      "outputs": []
    }
  ]
}